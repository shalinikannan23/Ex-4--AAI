{
  "nbformat": 4,
  "nbformat_minor": 0,
  "metadata": {
    "colab": {
      "provenance": []
    },
    "kernelspec": {
      "name": "python3",
      "display_name": "Python 3"
    },
    "language_info": {
      "name": "python"
    }
  },
  "cells": [
    {
      "cell_type": "code",
      "execution_count": 1,
      "metadata": {
        "colab": {
          "base_uri": "https://localhost:8080/"
        },
        "id": "RClNZIC9zHq4",
        "outputId": "2fbd2b5d-32e2-4a79-8bc2-82025d23a707"
      },
      "outputs": [
        {
          "output_type": "stream",
          "name": "stdout",
          "text": [
            "The probability of the observed sequence is: 0.018906881625\n",
            "The most likely sequence of weather states is: ['sunny', 'sunny', 'sunny', 'rainy', 'rainy', 'sunny']\n"
          ]
        }
      ],
      "source": [
        "import numpy as np\n",
        "\n",
        "transition_matrix=np.array([[0.7,0.3],[0.4,0.6]])\n",
        "initial_probabilities=np.array([0.5,0.5])\n",
        "observed_sequence=np.array([1,1,1,0,0,1])\n",
        "emisson_matrix=np.array([[0.1,0.9],[0.8,0.2]])\n",
        "\n",
        "alpha=np.zeros((len(observed_sequence),len(initial_probabilities)))\n",
        "alpha[0,:]=initial_probabilities*emisson_matrix[:,observed_sequence[0]]\n",
        "\n",
        "for t in range(1,len(observed_sequence)):\n",
        "  for j in range(len(initial_probabilities)):\n",
        "    alpha[t,j]=emisson_matrix[j,observed_sequence[t]]*np.sum(alpha[t-1,:]*transition_matrix[:,j])\n",
        "probability=np.sum(alpha[-1,:])\n",
        "print(\"The probability of the observed sequence is:\",probability)\n",
        "\n",
        "most_likely_sequence=[]\n",
        "for t in range(len(observed_sequence)):\n",
        "  if(alpha[t,0] > alpha[t,1]):\n",
        "    most_likely_sequence.append(\"sunny\")\n",
        "  else:\n",
        "    most_likely_sequence.append('rainy')\n",
        "print(\"The most likely sequence of weather states is:\",most_likely_sequence)\n"
      ]
    },
    {
      "cell_type": "code",
      "source": [],
      "metadata": {
        "id": "gNmTBAVwzP8t"
      },
      "execution_count": null,
      "outputs": []
    }
  ]
}